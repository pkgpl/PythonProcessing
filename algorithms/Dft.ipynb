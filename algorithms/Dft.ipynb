{
 "metadata": {
  "name": "",
  "signature": "sha256:dbaed6057d2098075fd5a6351bc2b2345d55047583a4274245f719e763a47224"
 },
 "nbformat": 3,
 "nbformat_minor": 0,
 "worksheets": [
  {
   "cells": [
    {
     "cell_type": "markdown",
     "metadata": {},
     "source": [
      "## Setting"
     ]
    },
    {
     "cell_type": "code",
     "collapsed": false,
     "input": [
      "dt=0.001\n",
      "nt=10000\n",
      "tmax=nt*dt\n",
      "time=np.linspace(0,tmax,nt)\n",
      "\n",
      "df=1./tmax\n",
      "fmax=100.\n",
      "nf=int(fmax/df)\n",
      "freq=np.linspace(0,fmax,nf)\n",
      "\n",
      "print tmax,fmax"
     ],
     "language": "python",
     "metadata": {},
     "outputs": [
      {
       "output_type": "stream",
       "stream": "stdout",
       "text": [
        "10.0 100.0\n"
       ]
      }
     ],
     "prompt_number": 1
    },
    {
     "cell_type": "code",
     "collapsed": false,
     "input": [
      "from scipy import signal\n",
      "ricker=signal.ricker(nt,20.0)\n",
      "plot(time,ricker,'k-')\n",
      "xlabel(\"Time (s)\",fontsize='large')\n",
      "ylabel(\"Amplitude\",fontsize='large')\n",
      "savefig('ricker.eps')"
     ],
     "language": "python",
     "metadata": {},
     "outputs": [
      {
       "metadata": {},
       "output_type": "display_data",
       "png": "[encoded data removed]",
       "text": [
        "<matplotlib.figure.Figure at 0x108bb8d90>"
       ]
      }
     ],
     "prompt_number": 2
    },
    {
     "cell_type": "markdown",
     "metadata": {},
     "source": [
      "## Python, Numpy"
     ]
    },
    {
     "cell_type": "code",
     "collapsed": false,
     "input": [
      "def dft_py(w,dt,nf,df):\n",
      "    fw=np.zeros(nf,dtype=np.complex64)\n",
      "    t=np.linspace(0,w.shape[0]*dt,w.shape[0])\n",
      "    for ifreq in xrange(nf):\n",
      "        omega=2.*np.pi*ifreq*df\n",
      "        fw[ifreq]=0.0j\n",
      "        for it in xrange(w.shape[0]):\n",
      "            fw[ifreq]+=w[it]*np.exp(-1.0j*omega*t[it])\n",
      "        fw[ifreq]*=dt\n",
      "    return fw\n",
      "\n",
      "def dft_np(w,dt,nf,df):\n",
      "    fw=np.zeros(nf,dtype=np.complex128)\n",
      "    t=np.linspace(0,w.shape[0]*dt,w.shape[0])\n",
      "    for ifreq in xrange(nf):\n",
      "        omega=2.*np.pi*ifreq*df\n",
      "        fw[ifreq]=np.dot(w,np.exp(-1.0j*omega*t))*dt\n",
      "    return fw"
     ],
     "language": "python",
     "metadata": {},
     "outputs": [],
     "prompt_number": 3
    },
    {
     "cell_type": "code",
     "collapsed": false,
     "input": [
      "fricker=dft_np(ricker,dt,nf,df)\n",
      "plot(freq,abs(fricker),'k-')\n",
      "xlabel('Frequency (Hz)',fontsize='large')\n",
      "ylabel('Amplitude',fontsize='large')\n",
      "savefig('spectrum.eps')"
     ],
     "language": "python",
     "metadata": {},
     "outputs": [
      {
       "metadata": {},
       "output_type": "display_data",
       "png": "[encoded data removed]",
       "text": [
        "<matplotlib.figure.Figure at 0x108bb84d0>"
       ]
      }
     ],
     "prompt_number": 4
    },
    {
     "cell_type": "code",
     "collapsed": false,
     "input": [
      "%timeit -r 3 -n 3 dft_np(ricker,dt,nf,df)"
     ],
     "language": "python",
     "metadata": {},
     "outputs": [
      {
       "output_type": "stream",
       "stream": "stdout",
       "text": [
        "3 loops, best of 3: 285 ms per loop\n"
       ]
      }
     ],
     "prompt_number": 6
    },
    {
     "cell_type": "code",
     "collapsed": false,
     "input": [
      "%timeit -r 3 -n 3 dft_py(ricker,dt,nf,df)"
     ],
     "language": "python",
     "metadata": {},
     "outputs": [
      {
       "output_type": "stream",
       "stream": "stdout",
       "text": [
        "3 loops, best of 3: 1min 14s per loop\n"
       ]
      }
     ],
     "prompt_number": 7
    },
    {
     "cell_type": "markdown",
     "metadata": {},
     "source": [
      "## Numba"
     ]
    },
    {
     "cell_type": "code",
     "collapsed": false,
     "input": [
      "import numba\n",
      "\n",
      "dft_nb=numba.autojit(dft_np)"
     ],
     "language": "python",
     "metadata": {},
     "outputs": [],
     "prompt_number": 11
    },
    {
     "cell_type": "code",
     "collapsed": false,
     "input": [
      "fb=dft_nb(ricker,dt,nf,df)\n",
      "plot(freq,abs(fb))"
     ],
     "language": "python",
     "metadata": {},
     "outputs": [
      {
       "metadata": {},
       "output_type": "pyout",
       "prompt_number": 12,
       "text": [
        "[<matplotlib.lines.Line2D at 0x11659ded0>]"
       ]
      },
      {
       "metadata": {},
       "output_type": "display_data",
       "png": "[encoded data removed]",
       "text": [
        "<matplotlib.figure.Figure at 0x116438750>"
       ]
      }
     ],
     "prompt_number": 12
    },
    {
     "cell_type": "code",
     "collapsed": false,
     "input": [
      "%timeit -r 3 -n 3 dft_nb(ricker,dt,nf,df)"
     ],
     "language": "python",
     "metadata": {},
     "outputs": [
      {
       "output_type": "stream",
       "stream": "stdout",
       "text": [
        "3 loops, best of 3: 1min 14s per loop\n"
       ]
      }
     ],
     "prompt_number": 14
    },
    {
     "cell_type": "markdown",
     "metadata": {},
     "source": [
      "## Cython"
     ]
    },
    {
     "cell_type": "code",
     "collapsed": false,
     "input": [
      "%load_ext cythonmagic"
     ],
     "language": "python",
     "metadata": {},
     "outputs": [],
     "prompt_number": 1
    },
    {
     "cell_type": "code",
     "collapsed": false,
     "input": [
      "%%cython\n",
      "import cython\n",
      "import numpy as np\n",
      "cimport numpy as np\n",
      "import cmath\n",
      "\n",
      "ctypedef np.double_t DTYPE_t\n",
      "\n",
      "@cython.boundscheck(False)\n",
      "@cython.wraparound(False)\n",
      "@cython.nonecheck(False)\n",
      "def dft_cy(np.ndarray[double] w,double dt,int nf,double df):\n",
      "    cdef np.ndarray[np.complex128_t] fw=np.zeros(nf,dtype=np.complex128)\n",
      "    cdef np.ndarray[double,ndim=1] t=np.linspace(0.,w.shape[0]*dt,w.shape[0])\n",
      "    cdef int ifreq,it\n",
      "    cdef double pi=np.pi\n",
      "    cdef DTYPE_t omega\n",
      "    for ifreq in xrange(nf):\n",
      "        omega=2.*pi*ifreq*df\n",
      "        fw[ifreq]=0.0j\n",
      "        for it in xrange(w.shape[0]):\n",
      "            fw[ifreq]=fw[ifreq]+w[it]*cmath.exp(-1.0j*omega*t[it])\n",
      "        fw[ifreq]=fw[ifreq]*dt\n",
      "    return fw"
     ],
     "language": "python",
     "metadata": {},
     "outputs": [],
     "prompt_number": 2
    },
    {
     "cell_type": "code",
     "collapsed": false,
     "input": [
      "%timeit -r 3 -n 3 dft_cy(ricker,dt,nf,df)"
     ],
     "language": "python",
     "metadata": {},
     "outputs": [
      {
       "output_type": "stream",
       "stream": "stdout",
       "text": [
        "3 loops, best of 3: 2.82 s per loop\n"
       ]
      }
     ],
     "prompt_number": 18
    },
    {
     "cell_type": "markdown",
     "metadata": {},
     "source": [
      "## Fortran"
     ]
    },
    {
     "cell_type": "code",
     "collapsed": false,
     "input": [
      "%%file dft_f.f90\n",
      "\n",
      "subroutine dft_fv(fw,w,nt,dt,nf,df)\n",
      "integer,intent(in):: nt,nf\n",
      "real(kind=8),intent(in):: dt,df\n",
      "real(kind=8),intent(in):: w(nt)\n",
      "complex(kind=8),intent(out):: fw(nf)\n",
      "integer it,ifreq\n",
      "real(kind=8),parameter:: pi=3.141592654d0\n",
      "real(kind=8):: omega,t(nt)\n",
      "do it=1,nt\n",
      "    t(it)=(it-1)*dt\n",
      "enddo\n",
      "do ifreq=1,nf\n",
      "    omega=2.d0*pi*(ifreq-1)*df\n",
      "    fw(ifreq)=dcmplx(0.d0,0.d0)\n",
      "    do it=1,nt\n",
      "        fw(ifreq)=fw(ifreq)+w(it)*cdexp(-dcmplx(0.d0,1.d0)*omega*t(it))\n",
      "    enddo\n",
      "    fw(ifreq)=fw(ifreq)*dt\n",
      "enddo\n",
      "end subroutine\n",
      "\n",
      "subroutine dft_fvec(fw,w,nt,dt,nf,df)\n",
      "integer,intent(in):: nt,nf\n",
      "real(kind=8),intent(in):: dt,df\n",
      "real(kind=8),intent(in):: w(nt)\n",
      "complex(kind=8),intent(out):: fw(nf)\n",
      "integer it,ifreq\n",
      "real(kind=8),parameter:: pi=3.141592654d0\n",
      "real(kind=8):: omega,t(nt)\n",
      "do it=1,nt\n",
      "    t(it)=(it-1)*dt\n",
      "enddo\n",
      "do ifreq=1,nf\n",
      "    omega=2.d0*pi*(ifreq-1)*df\n",
      "    fw(ifreq)=dot_product(w(:),cdexp(-dcmplx(0.d0,1.d0)*omega*t(:)))*dt\n",
      "enddo\n",
      "end subroutine"
     ],
     "language": "python",
     "metadata": {},
     "outputs": [
      {
       "output_type": "stream",
       "stream": "stdout",
       "text": [
        "Overwriting dft_f.f90\n"
       ]
      }
     ],
     "prompt_number": 20
    },
    {
     "cell_type": "code",
     "collapsed": false,
     "input": [
      "!f2py -c -m dft_fortran dft_f.f90 --f90exec=/opt/local/bin/gfortran-mp-4.9 > log.txt"
     ],
     "language": "python",
     "metadata": {},
     "outputs": [],
     "prompt_number": 21
    },
    {
     "cell_type": "code",
     "collapsed": false,
     "input": [
      "import dft_fortran\n",
      "print dft_fortran.__doc__"
     ],
     "language": "python",
     "metadata": {},
     "outputs": [
      {
       "output_type": "stream",
       "stream": "stdout",
       "text": [
        "This module 'dft_fortran' is auto-generated with f2py (version:2).\n",
        "Functions:\n",
        "  fw = dft_fv(w,dt,nf,df,nt=len(w))\n",
        "  fw = dft_fvec(w,dt,nf,df,nt=len(w))\n",
        ".\n"
       ]
      }
     ],
     "prompt_number": 22
    },
    {
     "cell_type": "code",
     "collapsed": false,
     "input": [
      "fw=dft_fortran.dft_fv(ricker,dt,nf,df)\n",
      "plot(freq,abs(fw))"
     ],
     "language": "python",
     "metadata": {},
     "outputs": [
      {
       "metadata": {},
       "output_type": "pyout",
       "prompt_number": 23,
       "text": [
        "[<matplotlib.lines.Line2D at 0x116b6b890>]"
       ]
      },
      {
       "metadata": {},
       "output_type": "display_data",
       "png": "[encoded data removed]",
       "text": [
        "<matplotlib.figure.Figure at 0x116b42dd0>"
       ]
      }
     ],
     "prompt_number": 23
    },
    {
     "cell_type": "code",
     "collapsed": false,
     "input": [
      "fw=dft_fortran.dft_fvec(ricker,dt,nf,df)\n",
      "plot(freq,abs(fw))"
     ],
     "language": "python",
     "metadata": {},
     "outputs": [
      {
       "metadata": {},
       "output_type": "pyout",
       "prompt_number": 24,
       "text": [
        "[<matplotlib.lines.Line2D at 0x116bef210>]"
       ]
      },
      {
       "metadata": {},
       "output_type": "display_data",
       "png": "[encoded data removed]",
       "text": [
        "<matplotlib.figure.Figure at 0x116b734d0>"
       ]
      }
     ],
     "prompt_number": 24
    },
    {
     "cell_type": "code",
     "collapsed": false,
     "input": [
      "%timeit -r 3 -n 3 dft_fortran.dft_fv(ricker,dt,nf,df)"
     ],
     "language": "python",
     "metadata": {},
     "outputs": [
      {
       "output_type": "stream",
       "stream": "stdout",
       "text": [
        "3 loops, best of 3: 224 ms per loop\n"
       ]
      }
     ],
     "prompt_number": 25
    },
    {
     "cell_type": "code",
     "collapsed": false,
     "input": [
      "%timeit -r 3 -n 3 dft_fortran.dft_fvec(ricker,dt,nf,df)"
     ],
     "language": "python",
     "metadata": {},
     "outputs": [
      {
       "output_type": "stream",
       "stream": "stdout",
       "text": [
        "3 loops, best of 3: 219 ms per loop\n"
       ]
      }
     ],
     "prompt_number": 26
    },
    {
     "cell_type": "code",
     "collapsed": false,
     "input": [],
     "language": "python",
     "metadata": {},
     "outputs": [],
     "prompt_number": 26
    }
   ],
   "metadata": {}
  }
 ]
}
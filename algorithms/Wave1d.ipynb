{
 "metadata": {
  "name": "",
  "signature": "sha256:790cfec8fbb91c33d8fc13b7a54a4a052916c1b24d03ebcc37b780d188dd16d4"
 },
 "nbformat": 3,
 "nbformat_minor": 0,
 "worksheets": [
  {
   "cells": [
    {
     "cell_type": "code",
     "collapsed": false,
     "input": [
      "# grid\n",
      "nx=np.int32(5000)\n",
      "h=np.float32(0.005)\n",
      "\n",
      "# time\n",
      "nt=np.int32(5000)\n",
      "dt=np.float32(0.001)\n",
      "\n",
      "# velocity\n",
      "v=np.zeros(nx,dtype=np.float32)\n",
      "v[:]=4.0\n",
      "\n",
      "# source position\n",
      "delta=np.zeros_like(v)\n",
      "delta[nx/2]=1.\n",
      "\n",
      "# source wavelet\n",
      "w=np.fromfile(\"wavelet.bin\",dtype=np.float32)"
     ],
     "language": "python",
     "metadata": {},
     "outputs": [],
     "prompt_number": 2
    },
    {
     "cell_type": "code",
     "collapsed": false,
     "input": [
      "plot(np.linspace(0.,nt*dt,nt),w,'k-')\n",
      "xlabel(\"Time (s)\",fontsize='large')\n",
      "ylabel('Amplitude',fontsize='large')\n",
      "xlim([0,5])\n",
      "savefig('wavelet.eps')"
     ],
     "language": "python",
     "metadata": {},
     "outputs": [
      {
       "metadata": {},
       "output_type": "display_data",
       "png": "[encoded data removed]",
       "text": [
        "<matplotlib.figure.Figure at 0x10907e490>"
       ]
      }
     ],
     "prompt_number": 12
    },
    {
     "cell_type": "markdown",
     "metadata": {},
     "source": [
      "## Python, Numpy"
     ]
    },
    {
     "cell_type": "code",
     "collapsed": false,
     "input": [
      "#import numpy as np\n",
      "def model1d(nx,nt,h,dt,v,delta,w):\n",
      "    um=np.zeros_like(v)\n",
      "    uo=np.zeros_like(um)\n",
      "    ud=np.zeros_like(um)\n",
      "    up=np.zeros_like(um)\n",
      "\n",
      "    h2=h*h\n",
      "    dt2=dt*dt\n",
      "    seismo=np.zeros((nt,nx),dtype=np.float32)\n",
      "    \n",
      "    for it in xrange(nt):\n",
      "        for ix in xrange(1,nx-1):\n",
      "            ud[ix]=(uo[ix-1]+uo[ix+1]-2.*uo[ix])/h2\n",
      "        for ix in xrange(nx):\n",
      "            up[ix]=(ud[ix]+delta[ix]*w[it])*v[ix]*v[ix]*dt2+2.*uo[ix]-um[ix]\n",
      "        um,uo,up=uo,up,um\n",
      "        for ix in xrange(nx):\n",
      "            seismo[it,ix]=uo[ix]\n",
      "    return seismo\n",
      "\n",
      "def model1d_vec(nx,nt,h,dt,v,delta,w):\n",
      "    um=np.zeros_like(v)\n",
      "    uo=np.zeros_like(um)\n",
      "    ud=np.zeros_like(um)\n",
      "    \n",
      "    h2=h*h\n",
      "    dt2=dt*dt\n",
      "    seismo=np.zeros((nt,nx),dtype=np.float32)\n",
      "    \n",
      "    for it in xrange(nt):\n",
      "        ud[1:-1]=(uo[:-2]+uo[2:]-2.*uo[1:-1])/h2\n",
      "        up=(ud+delta*w[it])*v*v*dt2 + 2.*uo - um\n",
      "        um,uo=uo,up\n",
      "        seismo[it,:]=uo[:]\n",
      "    return seismo"
     ],
     "language": "python",
     "metadata": {},
     "outputs": [],
     "prompt_number": 4
    },
    {
     "cell_type": "code",
     "collapsed": false,
     "input": [
      "seismo=model1d_vec(nx,nt,h,dt,v,delta,w)\n",
      "seismo=seismo.clip(seismo.min()*0.01,seismo.max()*0.01)\n",
      "plt.imshow(seismo,aspect=3,extent=[0,(nx-1)*h,(nt-1)*dt,0],cmap=cm.gray_r)\n",
      "xlabel('Distance (km)',fontsize='large')\n",
      "ylabel('Time (s)',fontsize='large')\n",
      "savefig('seismo.eps')"
     ],
     "language": "python",
     "metadata": {},
     "outputs": [
      {
       "metadata": {},
       "output_type": "display_data",
       "png": "[encoded data removed]",
       "text": [
        "<matplotlib.figure.Figure at 0x161b94cd0>"
       ]
      }
     ],
     "prompt_number": 13
    },
    {
     "cell_type": "code",
     "collapsed": false,
     "input": [
      "seismo=model1d(nx,nt,h,dt,v,delta,w)\n",
      "seismo=seismo.clip(seismo.min()*0.01,seismo.max()*0.01)\n",
      "plt.imshow(seismo,aspect=1.0,cmap=cm.gray_r)"
     ],
     "language": "python",
     "metadata": {},
     "outputs": [
      {
       "metadata": {},
       "output_type": "pyout",
       "prompt_number": 5,
       "text": [
        "<matplotlib.image.AxesImage at 0x10af756d0>"
       ]
      },
      {
       "metadata": {},
       "output_type": "display_data",
       "png": "[encoded data removed]",
       "text": [
        "<matplotlib.figure.Figure at 0x10af50290>"
       ]
      }
     ],
     "prompt_number": 5
    },
    {
     "cell_type": "code",
     "collapsed": false,
     "input": [
      "%timeit -r 3 -n 1 model1d_vec(nx,nt,h,dt,v,delta,w)"
     ],
     "language": "python",
     "metadata": {},
     "outputs": [
      {
       "output_type": "stream",
       "stream": "stdout",
       "text": [
        "1 loops, best of 3: 273 ms per loop\n"
       ]
      }
     ],
     "prompt_number": 6
    },
    {
     "cell_type": "code",
     "collapsed": false,
     "input": [
      "%timeit -r 3 -n 1 model1d(nx,nt,h,dt,v,delta,w)"
     ],
     "language": "python",
     "metadata": {},
     "outputs": [
      {
       "output_type": "stream",
       "stream": "stdout",
       "text": [
        "1 loops, best of 3: 6min 26s per loop\n"
       ]
      }
     ],
     "prompt_number": 7
    },
    {
     "cell_type": "markdown",
     "metadata": {},
     "source": [
      "## Numba"
     ]
    },
    {
     "cell_type": "code",
     "collapsed": false,
     "input": [
      "import numba\n",
      "model1d_nb=numba.autojit(model1d)"
     ],
     "language": "python",
     "metadata": {},
     "outputs": [],
     "prompt_number": 11
    },
    {
     "cell_type": "code",
     "collapsed": false,
     "input": [
      "%timeit -r 3 -n 1 model1d_nb(nx,nt,h,dt,v,delta,w)"
     ],
     "language": "python",
     "metadata": {},
     "outputs": [
      {
       "output_type": "stream",
       "stream": "stdout",
       "text": [
        "1 loops, best of 3: 6min 21s per loop\n"
       ]
      }
     ],
     "prompt_number": 12
    },
    {
     "cell_type": "markdown",
     "metadata": {},
     "source": [
      "## Cython"
     ]
    },
    {
     "cell_type": "code",
     "collapsed": false,
     "input": [
      "%load_ext cythonmagic"
     ],
     "language": "python",
     "metadata": {},
     "outputs": [],
     "prompt_number": 1
    },
    {
     "cell_type": "code",
     "collapsed": false,
     "input": [
      "%%cython\n",
      "import cython\n",
      "import numpy as np\n",
      "cimport numpy as np\n",
      "@cython.boundscheck(False)\n",
      "@cython.wraparound(False)\n",
      "@cython.nonecheck(False)\n",
      "def model1d_cy(int nx,int nt,float h,float dt,np.ndarray[float] v,np.ndarray[float] delta,np.ndarray[float] w):\n",
      "    cdef np.ndarray[float] um=np.zeros_like(v)\n",
      "    cdef np.ndarray[float] uo=np.zeros_like(um)\n",
      "    cdef np.ndarray[float] ud=np.zeros_like(um)\n",
      "    cdef np.ndarray[float] up=np.zeros_like(um)\n",
      "\n",
      "    cdef float h2=h*h\n",
      "    cdef float dt2=dt*dt\n",
      "    cdef np.ndarray[float,ndim=2] seismo=np.zeros((nt,nx),dtype=np.float32)\n",
      "    cdef int it,ix\n",
      "    \n",
      "    for it in xrange(nt):\n",
      "        for ix in xrange(1,nx-1):\n",
      "            ud[ix]=(uo[ix-1]+uo[ix+1]-2.*uo[ix])/h2\n",
      "        for ix in xrange(nx):\n",
      "            up[ix]=(ud[ix]+delta[ix]*w[it])*v[ix]*v[ix]*dt2+2.*uo[ix]-um[ix]\n",
      "        um,uo,up=uo,up,um\n",
      "        for ix in xrange(nx):\n",
      "            seismo[it,ix]=uo[ix]\n",
      "    return seismo"
     ],
     "language": "python",
     "metadata": {},
     "outputs": [],
     "prompt_number": 2
    },
    {
     "cell_type": "code",
     "collapsed": false,
     "input": [
      "seismo=model1d_cy(nx,nt,h,dt,v,delta,w)\n",
      "seismo=seismo.clip(seismo.min()*0.01,seismo.max()*0.01)\n",
      "plt.imshow(seismo,aspect=1,cmap=cm.gray_r)"
     ],
     "language": "python",
     "metadata": {},
     "outputs": [
      {
       "metadata": {},
       "output_type": "pyout",
       "prompt_number": 16,
       "text": [
        "<matplotlib.image.AxesImage at 0x1426ad690>"
       ]
      },
      {
       "metadata": {},
       "output_type": "display_data",
       "png": "[encoded data removed]",
       "text": [
        "<matplotlib.figure.Figure at 0x143245a90>"
       ]
      }
     ],
     "prompt_number": 16
    },
    {
     "cell_type": "code",
     "collapsed": false,
     "input": [
      "%timeit -r 3 -n 1 model1d_cy(nx,nt,h,dt,v,delta,w)"
     ],
     "language": "python",
     "metadata": {},
     "outputs": [
      {
       "output_type": "stream",
       "stream": "stdout",
       "text": [
        "1 loops, best of 3: 517 ms per loop\n"
       ]
      }
     ],
     "prompt_number": 17
    },
    {
     "cell_type": "markdown",
     "metadata": {},
     "source": [
      "## Fortran"
     ]
    },
    {
     "cell_type": "code",
     "collapsed": false,
     "input": [
      "%%file model1d_f.f90\n",
      "\n",
      "subroutine model1d_vec(nx,nt,h,dt,v,delta,w,seismo)\n",
      "implicit none\n",
      "integer,intent(in):: nx,nt\n",
      "real,intent(in):: h,dt,v(nx),delta(nx),w(nt)\n",
      "real,intent(out):: seismo(nx,nt)\n",
      "real,dimension(nx):: um,uo,up,ud\n",
      "real:: h2,dt2\n",
      "integer:: it\n",
      "\n",
      "um=0.\n",
      "uo=0.\n",
      "ud=0.\n",
      "seismo=0.\n",
      "\n",
      "h2=h*h\n",
      "dt2=dt*dt\n",
      "\n",
      "do it=1,nt\n",
      "    ud(2:nx-1)=(uo(1:nx-2)+uo(3:nx)-2.*uo(2:nx-1))/h2\n",
      "    up=(ud+delta*w(it))*v**2*dt2 + 2.*uo-um\n",
      "    um=uo\n",
      "    uo=up\n",
      "    seismo(:,it)=uo(:)\n",
      "enddo\n",
      "end subroutine\n",
      "                                                \n",
      "subroutine model1d(nx,nt,h,dt,v,delta,w,seismo)\n",
      "implicit none\n",
      "integer,intent(in):: nx,nt\n",
      "real,intent(in):: h,dt,v(nx),delta(nx),w(nt)\n",
      "real,intent(out):: seismo(nx,nt)\n",
      "real,dimension(nx):: um,uo,up,ud\n",
      "real:: h2,dt2\n",
      "integer it,ix\n",
      "um=0.\n",
      "uo=0.\n",
      "ud=0.\n",
      "seismo=0.\n",
      "\n",
      "h2=h*h\n",
      "dt2=dt*dt\n",
      "\n",
      "do it=1,nt\n",
      "    do ix=2,nx-1\n",
      "        ud(ix)=(uo(ix-1)+uo(ix+1)-2.*uo(ix))/h2\n",
      "    enddo\n",
      "    do ix=1,nx\n",
      "        up(ix)=(ud(ix)+delta(ix)*w(it))*v(ix)**2*dt2&\n",
      "        + 2.*uo(ix)-um(ix)\n",
      "    enddo\n",
      "    um=uo\n",
      "    uo=up\n",
      "    do ix=1,nx\n",
      "        seismo(ix,it)=uo(ix)\n",
      "    enddo\n",
      "enddo\n",
      "end subroutine"
     ],
     "language": "python",
     "metadata": {},
     "outputs": [
      {
       "output_type": "stream",
       "stream": "stdout",
       "text": [
        "Overwriting model1d_f.f90\n"
       ]
      }
     ],
     "prompt_number": 18
    },
    {
     "cell_type": "code",
     "collapsed": false,
     "input": [
      "!f2py -c -m model1d_f model1d_f.f90 --f90exec=/opt/local/bin/gfortran-mp-4.9 > log.txt"
     ],
     "language": "python",
     "metadata": {},
     "outputs": [],
     "prompt_number": 19
    },
    {
     "cell_type": "code",
     "collapsed": false,
     "input": [
      "import model1d_f\n",
      "print model1d_f.__doc__"
     ],
     "language": "python",
     "metadata": {},
     "outputs": [
      {
       "output_type": "stream",
       "stream": "stdout",
       "text": [
        "This module 'model1d_f' is auto-generated with f2py (version:2).\n",
        "Functions:\n",
        "  seismo = model1d_vec(h,dt,v,delta,w,nx=len(v),nt=len(w))\n",
        "  seismo = model1d(h,dt,v,delta,w,nx=len(v),nt=len(w))\n",
        ".\n"
       ]
      }
     ],
     "prompt_number": 20
    },
    {
     "cell_type": "code",
     "collapsed": false,
     "input": [
      "vtr=v.transpose()\n",
      "dtr=delta.transpose()\n",
      "seismo=model1d_f.model1d(h,dt,vtr,dtr,w)\n",
      "seismo=seismo.clip(seismo.min()*0.01,seismo.max()*0.01)\n",
      "plt.imshow(seismo.transpose(),aspect=1,cmap=cm.gray_r)"
     ],
     "language": "python",
     "metadata": {},
     "outputs": [
      {
       "metadata": {},
       "output_type": "pyout",
       "prompt_number": 21,
       "text": [
        "<matplotlib.image.AxesImage at 0x143210c90>"
       ]
      },
      {
       "metadata": {},
       "output_type": "display_data",
       "png": "[encoded data removed]",
       "text": [
        "<matplotlib.figure.Figure at 0x142a24050>"
       ]
      }
     ],
     "prompt_number": 21
    },
    {
     "cell_type": "code",
     "collapsed": false,
     "input": [
      "%timeit -r 3 -n 1 model1d_f.model1d(h,dt,vtr,dtr,w)"
     ],
     "language": "python",
     "metadata": {},
     "outputs": [
      {
       "output_type": "stream",
       "stream": "stdout",
       "text": [
        "1 loops, best of 3: 99.9 ms per loop\n"
       ]
      }
     ],
     "prompt_number": 22
    },
    {
     "cell_type": "code",
     "collapsed": false,
     "input": [
      "%timeit -r 3 -n 1 model1d_f.model1d_vec(h,dt,vtr,dtr,w)"
     ],
     "language": "python",
     "metadata": {},
     "outputs": [
      {
       "output_type": "stream",
       "stream": "stdout",
       "text": [
        "1 loops, best of 3: 102 ms per loop\n"
       ]
      }
     ],
     "prompt_number": 23
    },
    {
     "cell_type": "code",
     "collapsed": false,
     "input": [],
     "language": "python",
     "metadata": {},
     "outputs": [],
     "prompt_number": 23
    }
   ],
   "metadata": {}
  }
 ]
}
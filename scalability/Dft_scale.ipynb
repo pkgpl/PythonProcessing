{
 "metadata": {
  "name": "",
  "signature": "sha256:e659769ed2587c9dd8c7d3f98fcc727b89961930a449e9f09945794f1f16dd51"
 },
 "nbformat": 3,
 "nbformat_minor": 0,
 "worksheets": [
  {
   "cells": [
    {
     "cell_type": "markdown",
     "metadata": {},
     "source": [
      "## Setting"
     ]
    },
    {
     "cell_type": "code",
     "collapsed": false,
     "input": [
      "dt=0.001\n",
      "nt=10000\n",
      "tmax=nt*dt\n",
      "time=np.linspace(0,tmax,nt)\n",
      "\n",
      "df=1./tmax\n",
      "fmax=100.\n",
      "nf=int(fmax/df)\n",
      "freq=np.linspace(0,fmax,nf)\n",
      "\n",
      "print tmax,fmax"
     ],
     "language": "python",
     "metadata": {},
     "outputs": [
      {
       "output_type": "stream",
       "stream": "stdout",
       "text": [
        "10.0 100.0\n"
       ]
      }
     ],
     "prompt_number": 85
    },
    {
     "cell_type": "code",
     "collapsed": false,
     "input": [
      "from scipy import signal\n",
      "ricker=signal.ricker(nt,20.0)\n",
      "plot(time,ricker,'k-')\n",
      "xlabel(\"Time (s)\",fontsize='large')\n",
      "ylabel(\"Amplitude\",fontsize='large')"
     ],
     "language": "python",
     "metadata": {},
     "outputs": [
      {
       "metadata": {},
       "output_type": "pyout",
       "prompt_number": 86,
       "text": [
        "<matplotlib.text.Text at 0x110fc5290>"
       ]
      },
      {
       "metadata": {},
       "output_type": "display_data",
       "png": "[encoded data removed]",
       "text": [
        "<matplotlib.figure.Figure at 0x110f7e2d0>"
       ]
      }
     ],
     "prompt_number": 86
    },
    {
     "cell_type": "markdown",
     "metadata": {},
     "source": [
      "# Python, Numpy"
     ]
    },
    {
     "cell_type": "code",
     "collapsed": false,
     "input": [
      "def dft_py(w,dt,nf,df):\n",
      "    fw=np.zeros(nf,dtype=np.complex64)\n",
      "    t=np.linspace(0,w.shape[0]*dt,w.shape[0])\n",
      "    for ifreq in xrange(nf):\n",
      "        omega=2.*np.pi*ifreq*df\n",
      "        fw[ifreq]=0.0j\n",
      "        for it in xrange(w.shape[0]):\n",
      "            fw[ifreq]+=w[it]*np.exp(-1.0j*omega*t[it])\n",
      "        fw[ifreq]*=dt\n",
      "    return fw\n",
      "\n",
      "def dft_np(w,dt,nf,df):\n",
      "    fw=np.zeros(nf,dtype=np.complex128)\n",
      "    t=np.linspace(0,w.shape[0]*dt,w.shape[0])\n",
      "    for ifreq in xrange(nf):\n",
      "        omega=2.*np.pi*ifreq*df\n",
      "        fw[ifreq]=np.dot(w,np.exp(-1.0j*omega*t))*dt\n",
      "    return fw"
     ],
     "language": "python",
     "metadata": {},
     "outputs": [],
     "prompt_number": 87
    },
    {
     "cell_type": "code",
     "collapsed": false,
     "input": [
      "fricker=dft_np(ricker,dt,nf,df)\n",
      "plot(freq,abs(fricker),'k-')\n",
      "xlabel('Frequency (Hz)',fontsize='large')\n",
      "ylabel('Amplitude',fontsize='large')"
     ],
     "language": "python",
     "metadata": {},
     "outputs": [
      {
       "metadata": {},
       "output_type": "pyout",
       "prompt_number": 88,
       "text": [
        "<matplotlib.text.Text at 0x1113d9e10>"
       ]
      },
      {
       "metadata": {},
       "output_type": "display_data",
       "png": "[encoded data removed]",
       "text": [
        "<matplotlib.figure.Figure at 0x1113e18d0>"
       ]
      }
     ],
     "prompt_number": 88
    },
    {
     "cell_type": "code",
     "collapsed": false,
     "input": [
      "ncut=100\n",
      "%timeit -r 3 -n 3 dft_np(ricker[:ncut],dt,nf,df)"
     ],
     "language": "python",
     "metadata": {},
     "outputs": [
      {
       "output_type": "stream",
       "stream": "stdout",
       "text": [
        "3 loops, best of 3: 9.38 ms per loop\n"
       ]
      }
     ],
     "prompt_number": 90
    },
    {
     "cell_type": "code",
     "collapsed": false,
     "input": [
      "ncut=1000\n",
      "%timeit -r 3 -n 3 dft_np(ricker[:ncut],dt,nf,df)"
     ],
     "language": "python",
     "metadata": {},
     "outputs": [
      {
       "output_type": "stream",
       "stream": "stdout",
       "text": [
        "3 loops, best of 3: 33.7 ms per loop\n"
       ]
      }
     ],
     "prompt_number": 91
    },
    {
     "cell_type": "code",
     "collapsed": false,
     "input": [
      "%timeit -r 3 -n 3 dft_np(ricker,dt,nf,df)"
     ],
     "language": "python",
     "metadata": {},
     "outputs": [
      {
       "output_type": "stream",
       "stream": "stdout",
       "text": [
        "3 loops, best of 3: 285 ms per loop\n"
       ]
      }
     ],
     "prompt_number": 92
    },
    {
     "cell_type": "code",
     "collapsed": false,
     "input": [
      "ncut=100\n",
      "%timeit -r 3 -n 3 dft_py(ricker[:ncut],dt,nf,df)"
     ],
     "language": "python",
     "metadata": {},
     "outputs": [
      {
       "output_type": "stream",
       "stream": "stdout",
       "text": [
        "3 loops, best of 3: 784 ms per loop\n"
       ]
      }
     ],
     "prompt_number": 93
    },
    {
     "cell_type": "code",
     "collapsed": false,
     "input": [
      "ncut=1000\n",
      "%timeit -r 3 -n 3 dft_py(ricker[:ncut],dt,nf,df)"
     ],
     "language": "python",
     "metadata": {},
     "outputs": [
      {
       "output_type": "stream",
       "stream": "stdout",
       "text": [
        "3 loops, best of 3: 7.84 s per loop\n"
       ]
      }
     ],
     "prompt_number": 94
    },
    {
     "cell_type": "code",
     "collapsed": false,
     "input": [
      "%timeit -r 3 -n 3 dft_py(ricker,dt,nf,df)"
     ],
     "language": "python",
     "metadata": {},
     "outputs": [
      {
       "output_type": "stream",
       "stream": "stdout",
       "text": [
        "3 loops, best of 3: 1min 18s per loop\n"
       ]
      }
     ],
     "prompt_number": 95
    },
    {
     "cell_type": "markdown",
     "metadata": {},
     "source": [
      "# Numba"
     ]
    },
    {
     "cell_type": "code",
     "collapsed": false,
     "input": [
      "import numba\n",
      "\n",
      "dft_nb=numba.autojit(dft_py)"
     ],
     "language": "python",
     "metadata": {},
     "outputs": [],
     "prompt_number": 96
    },
    {
     "cell_type": "code",
     "collapsed": false,
     "input": [
      "ncut=100\n",
      "%timeit -r 3 -n 3 dft_nb(ricker[:ncut],dt,nf,df)"
     ],
     "language": "python",
     "metadata": {},
     "outputs": [
      {
       "output_type": "stream",
       "stream": "stdout",
       "text": [
        "3 loops, best of 3: 786 ms per loop\n"
       ]
      }
     ],
     "prompt_number": 99
    },
    {
     "cell_type": "code",
     "collapsed": false,
     "input": [
      "ncut=1000\n",
      "%timeit -r 3 -n 3 dft_nb(ricker[:ncut],dt,nf,df)"
     ],
     "language": "python",
     "metadata": {},
     "outputs": [
      {
       "output_type": "stream",
       "stream": "stdout",
       "text": [
        "3 loops, best of 3: 7.87 s per loop\n"
       ]
      }
     ],
     "prompt_number": 100
    },
    {
     "cell_type": "code",
     "collapsed": false,
     "input": [
      "%timeit -r 3 -n 3 dft_nb(ricker,dt,nf,df)"
     ],
     "language": "python",
     "metadata": {},
     "outputs": [
      {
       "output_type": "stream",
       "stream": "stdout",
       "text": [
        "3 loops, best of 3: 1min 18s per loop\n"
       ]
      }
     ],
     "prompt_number": 101
    },
    {
     "cell_type": "markdown",
     "metadata": {},
     "source": [
      "# Cython"
     ]
    },
    {
     "cell_type": "code",
     "collapsed": false,
     "input": [
      "%load_ext cythonmagic"
     ],
     "language": "python",
     "metadata": {},
     "outputs": [],
     "prompt_number": 1
    },
    {
     "cell_type": "code",
     "collapsed": false,
     "input": [
      "%%cython\n",
      "import cython\n",
      "import numpy as np\n",
      "cimport numpy as np\n",
      "import cmath\n",
      "\n",
      "ctypedef np.double_t DTYPE_t\n",
      "ctypedef np.complex128_t DTYPEC_t\n",
      "\n",
      "@cython.boundscheck(False)\n",
      "@cython.wraparound(False)\n",
      "@cython.nonecheck(False)\n",
      "def dft_cy(np.ndarray[double] w,double dt,int nf,double df):\n",
      "    cdef np.ndarray[np.complex128_t] fw=np.zeros(nf,dtype=np.complex128)\n",
      "    cdef np.ndarray[double,ndim=1] t=np.linspace(0.,w.shape[0]*dt,w.shape[0])\n",
      "    cdef int ifreq,it\n",
      "    cdef double pi=np.pi\n",
      "    cdef DTYPE_t omega\n",
      "    for ifreq in xrange(nf):\n",
      "        omega=2.*pi*ifreq*df\n",
      "        fw[ifreq]=0.0j\n",
      "        for it in xrange(w.shape[0]):\n",
      "            fw[ifreq]=fw[ifreq]+w[it]*cmath.exp(-1.0j*omega*t[it])\n",
      "        fw[ifreq]=fw[ifreq]*dt\n",
      "    return fw"
     ],
     "language": "python",
     "metadata": {},
     "outputs": [],
     "prompt_number": 2
    },
    {
     "cell_type": "code",
     "collapsed": false,
     "input": [
      "ncut=100\n",
      "%timeit -r 3 -n 3 dft_cy(ricker[:ncut],dt,nf,df)"
     ],
     "language": "python",
     "metadata": {},
     "outputs": [
      {
       "output_type": "stream",
       "stream": "stdout",
       "text": [
        "3 loops, best of 3: 29.3 ms per loop\n"
       ]
      }
     ],
     "prompt_number": 105
    },
    {
     "cell_type": "code",
     "collapsed": false,
     "input": [
      "ncut=1000\n",
      "%timeit -r 3 -n 3 dft_cy(ricker[:ncut],dt,nf,df)"
     ],
     "language": "python",
     "metadata": {},
     "outputs": [
      {
       "output_type": "stream",
       "stream": "stdout",
       "text": [
        "3 loops, best of 3: 284 ms per loop\n"
       ]
      }
     ],
     "prompt_number": 106
    },
    {
     "cell_type": "code",
     "collapsed": false,
     "input": [
      "%timeit -r 3 -n 3 dft_cy(ricker,dt,nf,df)"
     ],
     "language": "python",
     "metadata": {},
     "outputs": [
      {
       "output_type": "stream",
       "stream": "stdout",
       "text": [
        "3 loops, best of 3: 2.86 s per loop\n"
       ]
      }
     ],
     "prompt_number": 107
    },
    {
     "cell_type": "markdown",
     "metadata": {},
     "source": [
      "# Fortran"
     ]
    },
    {
     "cell_type": "code",
     "collapsed": false,
     "input": [
      "%%file dft_f.f90\n",
      "\n",
      "subroutine dft_fv(fw,w,nt,dt,nf,df)\n",
      "integer,intent(in):: nt,nf\n",
      "real(kind=8),intent(in):: dt,df\n",
      "real(kind=8),intent(in):: w(nt)\n",
      "complex(kind=8),intent(out):: fw(nf)\n",
      "integer it,ifreq\n",
      "real(kind=8),parameter:: pi=3.141592654d0\n",
      "real(kind=8):: omega,t(nt)\n",
      "do it=1,nt\n",
      "    t(it)=(it-1)*dt\n",
      "enddo\n",
      "do ifreq=1,nf\n",
      "    omega=2.d0*pi*(ifreq-1)*df\n",
      "    fw(ifreq)=dcmplx(0.d0,0.d0)\n",
      "    do it=1,nt\n",
      "        fw(ifreq)=fw(ifreq)+w(it)*cdexp(-dcmplx(0.d0,1.d0)*omega*t(it))\n",
      "    enddo\n",
      "    fw(ifreq)=fw(ifreq)*dt\n",
      "enddo\n",
      "end subroutine\n",
      "\n",
      "subroutine dft_fvec(fw,w,nt,dt,nf,df)\n",
      "integer,intent(in):: nt,nf\n",
      "real(kind=8),intent(in):: dt,df\n",
      "real(kind=8),intent(in):: w(nt)\n",
      "complex(kind=8),intent(out):: fw(nf)\n",
      "integer it,ifreq\n",
      "real(kind=8),parameter:: pi=3.141592654d0\n",
      "real(kind=8):: omega,t(nt)\n",
      "do it=1,nt\n",
      "    t(it)=(it-1)*dt\n",
      "enddo\n",
      "do ifreq=1,nf\n",
      "    omega=2.d0*pi*(ifreq-1)*df\n",
      "    fw(ifreq)=dot_product(w(:),cdexp(-dcmplx(0.d0,1.d0)*omega*t(:)))*dt\n",
      "enddo\n",
      "end subroutine"
     ],
     "language": "python",
     "metadata": {},
     "outputs": [
      {
       "output_type": "stream",
       "stream": "stdout",
       "text": [
        "Overwriting dft_f.f90\n"
       ]
      }
     ],
     "prompt_number": 109
    },
    {
     "cell_type": "code",
     "collapsed": false,
     "input": [
      "!f2py -c -m dft_fortran dft_f.f90 --f90exec=/opt/local/bin/gfortran-mp-4.9 > log.txt"
     ],
     "language": "python",
     "metadata": {},
     "outputs": [],
     "prompt_number": 110
    },
    {
     "cell_type": "code",
     "collapsed": false,
     "input": [
      "import dft_fortran\n",
      "print dft_fortran.__doc__"
     ],
     "language": "python",
     "metadata": {},
     "outputs": [
      {
       "output_type": "stream",
       "stream": "stdout",
       "text": [
        "This module 'dft_fortran' is auto-generated with f2py (version:2).\n",
        "Functions:\n",
        "  fw = dft_fv(w,dt,nf,df,nt=len(w))\n",
        "  fw = dft_fvec(w,dt,nf,df,nt=len(w))\n",
        ".\n"
       ]
      }
     ],
     "prompt_number": 111
    },
    {
     "cell_type": "code",
     "collapsed": false,
     "input": [
      "fw=dft_fortran.dft_fv(ricker,dt,nf,df)\n",
      "plot(freq,abs(fw))"
     ],
     "language": "python",
     "metadata": {},
     "outputs": [
      {
       "metadata": {},
       "output_type": "pyout",
       "prompt_number": 112,
       "text": [
        "[<matplotlib.lines.Line2D at 0x1115216d0>]"
       ]
      },
      {
       "metadata": {},
       "output_type": "display_data",
       "png": "[encoded data removed]",
       "text": [
        "<matplotlib.figure.Figure at 0x111403690>"
       ]
      }
     ],
     "prompt_number": 112
    },
    {
     "cell_type": "code",
     "collapsed": false,
     "input": [
      "fw=dft_fortran.dft_fvec(ricker,dt,nf,df)\n",
      "plot(freq,abs(fw))"
     ],
     "language": "python",
     "metadata": {},
     "outputs": [
      {
       "metadata": {},
       "output_type": "pyout",
       "prompt_number": 113,
       "text": [
        "[<matplotlib.lines.Line2D at 0x1115ac050>]"
       ]
      },
      {
       "metadata": {},
       "output_type": "display_data",
       "png": "[encoded data removed]",
       "text": [
        "<matplotlib.figure.Figure at 0x111527110>"
       ]
      }
     ],
     "prompt_number": 113
    },
    {
     "cell_type": "code",
     "collapsed": false,
     "input": [
      "ncut=100\n",
      "%timeit -r 3 -n 3 dft_fortran.dft_fv(ricker[:ncut],dt,nf,df)"
     ],
     "language": "python",
     "metadata": {},
     "outputs": [
      {
       "output_type": "stream",
       "stream": "stdout",
       "text": [
        "3 loops, best of 3: 2.09 ms per loop\n"
       ]
      }
     ],
     "prompt_number": 114
    },
    {
     "cell_type": "code",
     "collapsed": false,
     "input": [
      "ncut=1000\n",
      "%timeit -r 3 -n 3 dft_fortran.dft_fv(ricker[:ncut],dt,nf,df)"
     ],
     "language": "python",
     "metadata": {},
     "outputs": [
      {
       "output_type": "stream",
       "stream": "stdout",
       "text": [
        "3 loops, best of 3: 21.4 ms per loop\n"
       ]
      }
     ],
     "prompt_number": 115
    },
    {
     "cell_type": "code",
     "collapsed": false,
     "input": [
      "%timeit -r 3 -n 3 dft_fortran.dft_fv(ricker,dt,nf,df)"
     ],
     "language": "python",
     "metadata": {},
     "outputs": [
      {
       "output_type": "stream",
       "stream": "stdout",
       "text": [
        "3 loops, best of 3: 218 ms per loop\n"
       ]
      }
     ],
     "prompt_number": 116
    },
    {
     "cell_type": "code",
     "collapsed": false,
     "input": [],
     "language": "python",
     "metadata": {},
     "outputs": [],
     "prompt_number": 116
    },
    {
     "cell_type": "code",
     "collapsed": false,
     "input": [
      "ncut=100\n",
      "%timeit -r 3 -n 3 dft_fortran.dft_fvec(ricker[:ncut],dt,nf,df)"
     ],
     "language": "python",
     "metadata": {},
     "outputs": [
      {
       "output_type": "stream",
       "stream": "stdout",
       "text": [
        "3 loops, best of 3: 2.24 ms per loop\n"
       ]
      }
     ],
     "prompt_number": 117
    },
    {
     "cell_type": "code",
     "collapsed": false,
     "input": [
      "ncut=1000\n",
      "%timeit -r 3 -n 3 dft_fortran.dft_fvec(ricker[:ncut],dt,nf,df)"
     ],
     "language": "python",
     "metadata": {},
     "outputs": [
      {
       "output_type": "stream",
       "stream": "stdout",
       "text": [
        "3 loops, best of 3: 21.2 ms per loop\n"
       ]
      }
     ],
     "prompt_number": 118
    },
    {
     "cell_type": "code",
     "collapsed": false,
     "input": [
      "%timeit -r 3 -n 3 dft_fortran.dft_fvec(ricker,dt,nf,df)"
     ],
     "language": "python",
     "metadata": {},
     "outputs": [
      {
       "output_type": "stream",
       "stream": "stdout",
       "text": [
        "3 loops, best of 3: 216 ms per loop\n"
       ]
      }
     ],
     "prompt_number": 119
    }
   ],
   "metadata": {}
  }
 ]
}